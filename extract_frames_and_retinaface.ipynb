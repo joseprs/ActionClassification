{
 "cells": [
  {
   "cell_type": "code",
   "execution_count": 2,
   "metadata": {},
   "outputs": [],
   "source": [
    "import logging\n",
    "import subprocess\n",
    "import time\n",
    "from argparse import ArgumentParser\n",
    "from pathlib import Path\n",
    "\n",
    "import numpy as np\n",
    "from skimage.io import imread\n",
    "from tqdm import tqdm\n",
    "\n",
    "#from util import load_log_configuration\n"
   ]
  },
  {
   "cell_type": "code",
   "execution_count": 4,
   "metadata": {},
   "outputs": [],
   "source": [
    "def detect_faces(frames_dir, num_frames):\n",
    "    height, width = images_size(frames_dir)\n",
    "    results = []\n",
    "    for i in tqdm(range(0, num_frames, batch_size)):\n",
    "        frames = [imread(frames_dir.joinpath(f'{j + 1:05}.jpg')) for j in range(i, min(i + batch_size, num_frames))]\n",
    "\n",
    "        predictions = RetinaFaceMagic(frames)\n",
    "        results.extend(predictions)\n",
    "    return results\n",
    "\n",
    "import logging.config\n",
    "from datetime import datetime\n",
    "from pathlib import Path\n",
    "\n",
    "def load_log_configuration(log_config: Path, logs_dir: Path, log_fname_format='%Y-%m-%d_%H-%M-%S.log'):\n",
    "    log_fname = datetime.now().strftime(log_fname_format)\n",
    "    log_fpath = logs_dir.joinpath(log_fname)\n",
    "    with log_config.open(mode='rt') as f:\n",
    "        log_config = yaml.safe_load(f.read())\n",
    "        log_config['handlers']['file_handler']['filename'] = str(log_fpath)\n",
    "\n",
    "    log_fpath.parent.mkdir(parents=True, exist_ok=True)\n",
    "    logging.config.dictConfig(log_config)"
   ]
  },
  {
   "cell_type": "code",
   "execution_count": 11,
   "metadata": {},
   "outputs": [
    {
     "name": "stderr",
     "output_type": "stream",
     "text": [
      "usage: ipykernel_launcher.py [-h] (-s SINGLE_VIDEO | -v VIDEOS)\n",
      "                             [--logs_dir LOGS_DIR] [--log_config LOG_CONFIG]\n",
      "ipykernel_launcher.py: error: one of the arguments -s/--single_video -v/--videos is required\n"
     ]
    },
    {
     "ename": "SystemExit",
     "evalue": "2",
     "output_type": "error",
     "traceback": [
      "An exception has occurred, use %tb to see the full traceback.\n",
      "\u001b[0;31mSystemExit\u001b[0m\u001b[0;31m:\u001b[0m 2\n"
     ]
    },
    {
     "name": "stderr",
     "output_type": "stream",
     "text": [
      "/Users/josep/opt/anaconda3/lib/python3.8/site-packages/IPython/core/interactiveshell.py:3426: UserWarning: To exit: use 'exit', 'quit', or Ctrl-D.\n",
      "  warn(\"To exit: use 'exit', 'quit', or Ctrl-D.\", stacklevel=1)\n"
     ]
    }
   ],
   "source": [
    "if __name__ == '__main__':\n",
    "\n",
    "    parser = ArgumentParser(description='Face detection')\n",
    "\n",
    "    group = parser.add_mutually_exclusive_group(required=True)\n",
    "    group.add_argument('-s', '--single_video',\n",
    "                       help='Filepath for the video to process',\n",
    "                       default=None, type=lambda p: Path(p))\n",
    "    group.add_argument('-v', '--videos',\n",
    "                       help='Path for files containing a video list to process',\n",
    "                       default=None, type=lambda p: Path(p))\n",
    "    parser.add_argument('--logs_dir', required=False,\n",
    "                        help='Logging directory path (default: logs)',\n",
    "                        default=\"logs\", type=lambda p: Path(p))\n",
    "    parser.add_argument('--log_config', required=False,\n",
    "                        help='Logging configuration file (default: config/log_config.yml)',\n",
    "                        default=\"config/log_config.yml\", type=lambda p: Path(p))\n",
    "    #args = parser.parse_args()\n",
    "\n",
    "    #load_log_configuration(args.log_config, args.logs_dir)\n",
    "    \n",
    "parser.parse_args()"
   ]
  }
 ],
 "metadata": {
  "kernelspec": {
   "display_name": "Python 3",
   "language": "python",
   "name": "python3"
  },
  "language_info": {
   "codemirror_mode": {
    "name": "ipython",
    "version": 3
   },
   "file_extension": ".py",
   "mimetype": "text/x-python",
   "name": "python",
   "nbconvert_exporter": "python",
   "pygments_lexer": "ipython3",
   "version": "3.9.7"
  }
 },
 "nbformat": 4,
 "nbformat_minor": 4
}
