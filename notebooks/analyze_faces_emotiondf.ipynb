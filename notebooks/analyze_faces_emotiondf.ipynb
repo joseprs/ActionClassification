{
 "cells": [
  {
   "cell_type": "code",
   "execution_count": 1,
   "metadata": {},
   "outputs": [],
   "source": [
    "import pandas as pd\n",
    "import matplotlib.pyplot as plt\n",
    "import numpy as np\n",
    "import os"
   ]
  },
  {
   "cell_type": "code",
   "execution_count": 2,
   "metadata": {},
   "outputs": [],
   "source": [
    "data = pd.read_csv('../Extracted Data/1stHalf_faces_info_csv.csv')\n"
   ]
  },
  {
   "cell_type": "markdown",
   "metadata": {},
   "source": [
    "# Plots related to the number of faces by action"
   ]
  },
  {
   "cell_type": "code",
   "execution_count": 3,
   "metadata": {},
   "outputs": [
    {
     "data": {
      "text/html": [
       "<div>\n",
       "<style scoped>\n",
       "    .dataframe tbody tr th:only-of-type {\n",
       "        vertical-align: middle;\n",
       "    }\n",
       "\n",
       "    .dataframe tbody tr th {\n",
       "        vertical-align: top;\n",
       "    }\n",
       "\n",
       "    .dataframe thead th {\n",
       "        text-align: right;\n",
       "    }\n",
       "</style>\n",
       "<table border=\"1\" class=\"dataframe\">\n",
       "  <thead>\n",
       "    <tr style=\"text-align: right;\">\n",
       "      <th></th>\n",
       "      <th>action</th>\n",
       "      <th>gametime</th>\n",
       "      <th>position</th>\n",
       "      <th>num</th>\n",
       "    </tr>\n",
       "  </thead>\n",
       "  <tbody>\n",
       "    <tr>\n",
       "      <th>3</th>\n",
       "      <td>Corner</td>\n",
       "      <td>1 - 03:02</td>\n",
       "      <td>182775</td>\n",
       "      <td>160</td>\n",
       "    </tr>\n",
       "    <tr>\n",
       "      <th>19</th>\n",
       "      <td>Corner</td>\n",
       "      <td>1 - 11:07</td>\n",
       "      <td>667482</td>\n",
       "      <td>4</td>\n",
       "    </tr>\n",
       "    <tr>\n",
       "      <th>25</th>\n",
       "      <td>Corner</td>\n",
       "      <td>1 - 14:40</td>\n",
       "      <td>880053</td>\n",
       "      <td>1</td>\n",
       "    </tr>\n",
       "    <tr>\n",
       "      <th>28</th>\n",
       "      <td>Corner</td>\n",
       "      <td>1 - 16:11</td>\n",
       "      <td>971069</td>\n",
       "      <td>21</td>\n",
       "    </tr>\n",
       "    <tr>\n",
       "      <th>30</th>\n",
       "      <td>Corner</td>\n",
       "      <td>1 - 17:11</td>\n",
       "      <td>1031163</td>\n",
       "      <td>2</td>\n",
       "    </tr>\n",
       "    <tr>\n",
       "      <th>48</th>\n",
       "      <td>Corner</td>\n",
       "      <td>1 - 33:41</td>\n",
       "      <td>2021651</td>\n",
       "      <td>208</td>\n",
       "    </tr>\n",
       "    <tr>\n",
       "      <th>63</th>\n",
       "      <td>Corner</td>\n",
       "      <td>1 - 42:25</td>\n",
       "      <td>2545244</td>\n",
       "      <td>3</td>\n",
       "    </tr>\n",
       "  </tbody>\n",
       "</table>\n",
       "</div>"
      ],
      "text/plain": [
       "    action   gametime  position  num\n",
       "3   Corner  1 - 03:02    182775  160\n",
       "19  Corner  1 - 11:07    667482    4\n",
       "25  Corner  1 - 14:40    880053    1\n",
       "28  Corner  1 - 16:11    971069   21\n",
       "30  Corner  1 - 17:11   1031163    2\n",
       "48  Corner  1 - 33:41   2021651  208\n",
       "63  Corner  1 - 42:25   2545244    3"
      ]
     },
     "execution_count": 3,
     "metadata": {},
     "output_type": "execute_result"
    }
   ],
   "source": [
    "# Number of faces by every action in the match\n",
    "df1 = data.copy()\n",
    "df1['num'] = 1\n",
    "df1 = df1[['action','gametime','position','num']]\n",
    "count1 = df1.groupby(['action','gametime','position'], as_index=False, sort=False).sum()\n",
    "count1.loc[count1['action']=='Corner']"
   ]
  },
  {
   "cell_type": "code",
   "execution_count": 4,
   "metadata": {},
   "outputs": [
    {
     "data": {
      "image/png": "[encoded data removed]",
      "text/plain": [
       "<Figure size 1080x360 with 1 Axes>"
      ]
     },
     "metadata": {
      "needs_background": "light"
     },
     "output_type": "display_data"
    }
   ],
   "source": [
    "count1.plot(kind='scatter',x='action', y='num',color='green', figsize=(15,5), \n",
    "           title = '# Faces detected in the whole action', xlabel='Action', ylabel='# Faces')\n",
    "plt.xlabel('Action')\n",
    "plt.ylabel('# Faces')\n",
    "plt.show()"
   ]
  },
  {
   "cell_type": "code",
   "execution_count": 5,
   "metadata": {},
   "outputs": [
    {
     "data": {
      "text/html": [
       "<div>\n",
       "<style scoped>\n",
       "    .dataframe tbody tr th:only-of-type {\n",
       "        vertical-align: middle;\n",
       "    }\n",
       "\n",
       "    .dataframe tbody tr th {\n",
       "        vertical-align: top;\n",
       "    }\n",
       "\n",
       "    .dataframe thead th {\n",
       "        text-align: right;\n",
       "    }\n",
       "</style>\n",
       "<table border=\"1\" class=\"dataframe\">\n",
       "  <thead>\n",
       "    <tr style=\"text-align: right;\">\n",
       "      <th></th>\n",
       "      <th>action</th>\n",
       "      <th>gametime</th>\n",
       "      <th>position</th>\n",
       "      <th>frame</th>\n",
       "      <th>num</th>\n",
       "    </tr>\n",
       "  </thead>\n",
       "  <tbody>\n",
       "    <tr>\n",
       "      <th>15</th>\n",
       "      <td>Corner</td>\n",
       "      <td>1 - 03:02</td>\n",
       "      <td>182775</td>\n",
       "      <td>359</td>\n",
       "      <td>45</td>\n",
       "    </tr>\n",
       "    <tr>\n",
       "      <th>16</th>\n",
       "      <td>Corner</td>\n",
       "      <td>1 - 03:02</td>\n",
       "      <td>182775</td>\n",
       "      <td>360</td>\n",
       "      <td>42</td>\n",
       "    </tr>\n",
       "    <tr>\n",
       "      <th>17</th>\n",
       "      <td>Corner</td>\n",
       "      <td>1 - 03:02</td>\n",
       "      <td>182775</td>\n",
       "      <td>361</td>\n",
       "      <td>28</td>\n",
       "    </tr>\n",
       "    <tr>\n",
       "      <th>18</th>\n",
       "      <td>Corner</td>\n",
       "      <td>1 - 03:02</td>\n",
       "      <td>182775</td>\n",
       "      <td>362</td>\n",
       "      <td>45</td>\n",
       "    </tr>\n",
       "    <tr>\n",
       "      <th>132</th>\n",
       "      <td>Corner</td>\n",
       "      <td>1 - 11:07</td>\n",
       "      <td>667482</td>\n",
       "      <td>1332</td>\n",
       "      <td>2</td>\n",
       "    </tr>\n",
       "  </tbody>\n",
       "</table>\n",
       "</div>"
      ],
      "text/plain": [
       "     action   gametime  position  frame  num\n",
       "15   Corner  1 - 03:02    182775    359   45\n",
       "16   Corner  1 - 03:02    182775    360   42\n",
       "17   Corner  1 - 03:02    182775    361   28\n",
       "18   Corner  1 - 03:02    182775    362   45\n",
       "132  Corner  1 - 11:07    667482   1332    2"
      ]
     },
     "execution_count": 5,
     "metadata": {},
     "output_type": "execute_result"
    }
   ],
   "source": [
    "# Number of faces by frame, of every action in the match\n",
    "df2 = data.copy()\n",
    "df2['num'] = 1\n",
    "df2 = df2[['action','gametime','position','frame','num']]\n",
    "count2 = df2.groupby(['action','gametime','position','frame'], as_index=False, sort=False).sum()\n",
    "count2.loc[count2['action']=='Corner'].head()"
   ]
  },
  {
   "cell_type": "code",
   "execution_count": 6,
   "metadata": {},
   "outputs": [
    {
     "data": {
      "image/png": "[encoded data removed]",
      "text/plain": [
       "<Figure size 1080x360 with 1 Axes>"
      ]
     },
     "metadata": {
      "needs_background": "light"
     },
     "output_type": "display_data"
    }
   ],
   "source": [
    "count2.plot(kind='scatter',x='action', y='num',color='green', figsize=(15,5), \n",
    "           title = '# Faces in the frame classified by action', xlabel='Action', ylabel='# Faces')\n",
    "plt.xlabel('Action')\n",
    "plt.ylabel('# Faces')\n",
    "plt.show()"
   ]
  },
  {
   "cell_type": "code",
   "execution_count": 15,
   "metadata": {
    "scrolled": false
   },
   "outputs": [
    {
     "data": {
      "image/png": "[encoded data removed]",
      "text/plain": [
       "<Figure size 1080x720 with 3 Axes>"
      ]
     },
     "metadata": {
      "needs_background": "light"
     },
     "output_type": "display_data"
    }
   ],
   "source": [
    "# Reation between total faces by action and times that the action apears\n",
    "df3 = data.copy()\n",
    "df3['num'] = 1\n",
    "df3 = df3[['action','num']]\n",
    "count3 = df3.groupby(['action'], as_index=False).sum().rename(columns={'action':'video_action','num':'num_faces'})\n",
    "\n",
    "import json\n",
    "json_path = '../data/soccernet/england_epl/2014-2015/2015-02-21 - 18-00 Chelsea 1 - 1 Burnley/Labels-v2.json'\n",
    "with open(json_path) as f:\n",
    "    ann = json.load(f)\n",
    "\n",
    "an_df = pd.DataFrame(ann['annotations'])\n",
    "an_df = an_df.loc[an_df['gameTime'].str[:1]=='1'] # para solo agarrar acciones de la 1ra parte \n",
    "                                                  # --> cuando solo usamos caras de la 1ra parte\n",
    "an_df = an_df[['label']]\n",
    "an_df['num']=1\n",
    "count4 = an_df.groupby(['label'], as_index=False).sum().rename(columns={'label':'labels_action','num':'num_actions'})\n",
    "\n",
    "a = pd.merge(count3,count4,left_on='video_action',right_on='labels_action',how='inner')\n",
    "a['faces_per_action'] = a['num_faces']/a['num_actions']\n",
    "\n",
    "\n",
    "fig, axes = plt.subplots(nrows=3, ncols=1, sharex=True)\n",
    "\n",
    "a.plot(kind='bar',x='video_action',y='num_faces',color='green', figsize=(15,15),\n",
    "       title='Sum of the total faces per action', ax=axes[0])\n",
    "\n",
    "a.plot(kind='bar',x='labels_action',y='num_actions',color='green', figsize=(15,15),\n",
    "       title='Action appearances', ax=axes[1])\n",
    "\n",
    "a.plot(kind='bar',x='labels_action',y='faces_per_action',color='green', figsize=(15,10),\n",
    "       title='Faces per action',ax=axes[2])\n",
    "\n",
    "plt.show()\n",
    "\n"
   ]
  },
  {
   "cell_type": "code",
   "execution_count": 9,
   "metadata": {},
   "outputs": [
    {
     "data": {
      "image/png": "[encoded data removed]",
      "text/plain": [
       "<Figure size 720x288 with 1 Axes>"
      ]
     },
     "metadata": {
      "needs_background": "light"
     },
     "output_type": "display_data"
    }
   ],
   "source": [
    "a.plot(kind='bar', x='video_action',figsize=(10,4))\n",
    "plt.show()"
   ]
  },
  {
   "cell_type": "markdown",
   "metadata": {},
   "source": [
    "# Plots and information related to WHEN the faces are detected"
   ]
  },
  {
   "cell_type": "code",
   "execution_count": 10,
   "metadata": {},
   "outputs": [],
   "source": [
    "def get_frame(position):\n",
    "    return (position//1000)*2\n"
   ]
  },
  {
   "cell_type": "code",
   "execution_count": 11,
   "metadata": {},
   "outputs": [
    {
     "data": {
      "image/png": "[encoded data removed]",
      "text/plain": [
       "<Figure size 1080x720 with 1 Axes>"
      ]
     },
     "metadata": {
      "needs_background": "light"
     },
     "output_type": "display_data"
    }
   ],
   "source": [
    "dfw = data[['action','gametime','position','frame']].copy()\n",
    "\n",
    "dfw['position_frame'] = get_frame(dfw['position'])\n",
    "dfw['relative_frame'] = dfw['frame'] - dfw['position_frame']\n",
    "dfw.boxplot(column='relative_frame',by='action', figsize=(15,10))\n",
    "plt.show()"
   ]
  },
  {
   "cell_type": "code",
   "execution_count": 12,
   "metadata": {},
   "outputs": [
    {
     "data": {
      "text/html": [
       "<div>\n",
       "<style scoped>\n",
       "    .dataframe tbody tr th:only-of-type {\n",
       "        vertical-align: middle;\n",
       "    }\n",
       "\n",
       "    .dataframe tbody tr th {\n",
       "        vertical-align: top;\n",
       "    }\n",
       "\n",
       "    .dataframe thead th {\n",
       "        text-align: right;\n",
       "    }\n",
       "</style>\n",
       "<table border=\"1\" class=\"dataframe\">\n",
       "  <thead>\n",
       "    <tr style=\"text-align: right;\">\n",
       "      <th></th>\n",
       "      <th>action</th>\n",
       "      <th>gametime</th>\n",
       "      <th>position</th>\n",
       "      <th>frame</th>\n",
       "      <th>position_frame</th>\n",
       "      <th>relative_frame</th>\n",
       "    </tr>\n",
       "  </thead>\n",
       "  <tbody>\n",
       "    <tr>\n",
       "      <th>675</th>\n",
       "      <td>Corner</td>\n",
       "      <td>1 - 16:11</td>\n",
       "      <td>971069</td>\n",
       "      <td>1937</td>\n",
       "      <td>1942</td>\n",
       "      <td>-5</td>\n",
       "    </tr>\n",
       "    <tr>\n",
       "      <th>676</th>\n",
       "      <td>Corner</td>\n",
       "      <td>1 - 16:11</td>\n",
       "      <td>971069</td>\n",
       "      <td>1937</td>\n",
       "      <td>1942</td>\n",
       "      <td>-5</td>\n",
       "    </tr>\n",
       "    <tr>\n",
       "      <th>677</th>\n",
       "      <td>Corner</td>\n",
       "      <td>1 - 16:11</td>\n",
       "      <td>971069</td>\n",
       "      <td>1937</td>\n",
       "      <td>1942</td>\n",
       "      <td>-5</td>\n",
       "    </tr>\n",
       "    <tr>\n",
       "      <th>678</th>\n",
       "      <td>Corner</td>\n",
       "      <td>1 - 16:11</td>\n",
       "      <td>971069</td>\n",
       "      <td>1937</td>\n",
       "      <td>1942</td>\n",
       "      <td>-5</td>\n",
       "    </tr>\n",
       "    <tr>\n",
       "      <th>679</th>\n",
       "      <td>Corner</td>\n",
       "      <td>1 - 16:11</td>\n",
       "      <td>971069</td>\n",
       "      <td>1937</td>\n",
       "      <td>1942</td>\n",
       "      <td>-5</td>\n",
       "    </tr>\n",
       "    <tr>\n",
       "      <th>680</th>\n",
       "      <td>Corner</td>\n",
       "      <td>1 - 16:11</td>\n",
       "      <td>971069</td>\n",
       "      <td>1937</td>\n",
       "      <td>1942</td>\n",
       "      <td>-5</td>\n",
       "    </tr>\n",
       "    <tr>\n",
       "      <th>681</th>\n",
       "      <td>Corner</td>\n",
       "      <td>1 - 16:11</td>\n",
       "      <td>971069</td>\n",
       "      <td>1938</td>\n",
       "      <td>1942</td>\n",
       "      <td>-4</td>\n",
       "    </tr>\n",
       "    <tr>\n",
       "      <th>682</th>\n",
       "      <td>Corner</td>\n",
       "      <td>1 - 16:11</td>\n",
       "      <td>971069</td>\n",
       "      <td>1938</td>\n",
       "      <td>1942</td>\n",
       "      <td>-4</td>\n",
       "    </tr>\n",
       "    <tr>\n",
       "      <th>683</th>\n",
       "      <td>Corner</td>\n",
       "      <td>1 - 16:11</td>\n",
       "      <td>971069</td>\n",
       "      <td>1938</td>\n",
       "      <td>1942</td>\n",
       "      <td>-4</td>\n",
       "    </tr>\n",
       "    <tr>\n",
       "      <th>684</th>\n",
       "      <td>Corner</td>\n",
       "      <td>1 - 16:11</td>\n",
       "      <td>971069</td>\n",
       "      <td>1938</td>\n",
       "      <td>1942</td>\n",
       "      <td>-4</td>\n",
       "    </tr>\n",
       "    <tr>\n",
       "      <th>685</th>\n",
       "      <td>Corner</td>\n",
       "      <td>1 - 16:11</td>\n",
       "      <td>971069</td>\n",
       "      <td>1938</td>\n",
       "      <td>1942</td>\n",
       "      <td>-4</td>\n",
       "    </tr>\n",
       "    <tr>\n",
       "      <th>686</th>\n",
       "      <td>Corner</td>\n",
       "      <td>1 - 16:11</td>\n",
       "      <td>971069</td>\n",
       "      <td>1938</td>\n",
       "      <td>1942</td>\n",
       "      <td>-4</td>\n",
       "    </tr>\n",
       "    <tr>\n",
       "      <th>687</th>\n",
       "      <td>Corner</td>\n",
       "      <td>1 - 16:11</td>\n",
       "      <td>971069</td>\n",
       "      <td>1951</td>\n",
       "      <td>1942</td>\n",
       "      <td>9</td>\n",
       "    </tr>\n",
       "    <tr>\n",
       "      <th>688</th>\n",
       "      <td>Corner</td>\n",
       "      <td>1 - 16:11</td>\n",
       "      <td>971069</td>\n",
       "      <td>1952</td>\n",
       "      <td>1942</td>\n",
       "      <td>10</td>\n",
       "    </tr>\n",
       "    <tr>\n",
       "      <th>689</th>\n",
       "      <td>Corner</td>\n",
       "      <td>1 - 16:11</td>\n",
       "      <td>971069</td>\n",
       "      <td>1952</td>\n",
       "      <td>1942</td>\n",
       "      <td>10</td>\n",
       "    </tr>\n",
       "    <tr>\n",
       "      <th>690</th>\n",
       "      <td>Corner</td>\n",
       "      <td>1 - 16:11</td>\n",
       "      <td>971069</td>\n",
       "      <td>1953</td>\n",
       "      <td>1942</td>\n",
       "      <td>11</td>\n",
       "    </tr>\n",
       "    <tr>\n",
       "      <th>691</th>\n",
       "      <td>Corner</td>\n",
       "      <td>1 - 16:11</td>\n",
       "      <td>971069</td>\n",
       "      <td>1954</td>\n",
       "      <td>1942</td>\n",
       "      <td>12</td>\n",
       "    </tr>\n",
       "    <tr>\n",
       "      <th>692</th>\n",
       "      <td>Corner</td>\n",
       "      <td>1 - 16:11</td>\n",
       "      <td>971069</td>\n",
       "      <td>1955</td>\n",
       "      <td>1942</td>\n",
       "      <td>13</td>\n",
       "    </tr>\n",
       "    <tr>\n",
       "      <th>693</th>\n",
       "      <td>Corner</td>\n",
       "      <td>1 - 16:11</td>\n",
       "      <td>971069</td>\n",
       "      <td>1955</td>\n",
       "      <td>1942</td>\n",
       "      <td>13</td>\n",
       "    </tr>\n",
       "    <tr>\n",
       "      <th>694</th>\n",
       "      <td>Corner</td>\n",
       "      <td>1 - 16:11</td>\n",
       "      <td>971069</td>\n",
       "      <td>1957</td>\n",
       "      <td>1942</td>\n",
       "      <td>15</td>\n",
       "    </tr>\n",
       "    <tr>\n",
       "      <th>695</th>\n",
       "      <td>Corner</td>\n",
       "      <td>1 - 16:11</td>\n",
       "      <td>971069</td>\n",
       "      <td>1958</td>\n",
       "      <td>1942</td>\n",
       "      <td>16</td>\n",
       "    </tr>\n",
       "  </tbody>\n",
       "</table>\n",
       "</div>"
      ],
      "text/plain": [
       "     action   gametime  position  frame  position_frame  relative_frame\n",
       "675  Corner  1 - 16:11    971069   1937            1942              -5\n",
       "676  Corner  1 - 16:11    971069   1937            1942              -5\n",
       "677  Corner  1 - 16:11    971069   1937            1942              -5\n",
       "678  Corner  1 - 16:11    971069   1937            1942              -5\n",
       "679  Corner  1 - 16:11    971069   1937            1942              -5\n",
       "680  Corner  1 - 16:11    971069   1937            1942              -5\n",
       "681  Corner  1 - 16:11    971069   1938            1942              -4\n",
       "682  Corner  1 - 16:11    971069   1938            1942              -4\n",
       "683  Corner  1 - 16:11    971069   1938            1942              -4\n",
       "684  Corner  1 - 16:11    971069   1938            1942              -4\n",
       "685  Corner  1 - 16:11    971069   1938            1942              -4\n",
       "686  Corner  1 - 16:11    971069   1938            1942              -4\n",
       "687  Corner  1 - 16:11    971069   1951            1942               9\n",
       "688  Corner  1 - 16:11    971069   1952            1942              10\n",
       "689  Corner  1 - 16:11    971069   1952            1942              10\n",
       "690  Corner  1 - 16:11    971069   1953            1942              11\n",
       "691  Corner  1 - 16:11    971069   1954            1942              12\n",
       "692  Corner  1 - 16:11    971069   1955            1942              13\n",
       "693  Corner  1 - 16:11    971069   1955            1942              13\n",
       "694  Corner  1 - 16:11    971069   1957            1942              15\n",
       "695  Corner  1 - 16:11    971069   1958            1942              16"
      ]
     },
     "execution_count": 12,
     "metadata": {},
     "output_type": "execute_result"
    }
   ],
   "source": [
    "a = dfw.loc[dfw['position'] == 971069]\n",
    "a"
   ]
  },
  {
   "cell_type": "code",
   "execution_count": null,
   "metadata": {},
   "outputs": [],
   "source": []
  }
 ],
 "metadata": {
  "kernelspec": {
   "display_name": "Python 3",
   "language": "python",
   "name": "python3"
  },
  "language_info": {
   "codemirror_mode": {
    "name": "ipython",
    "version": 3
   },
   "file_extension": ".py",
   "mimetype": "text/x-python",
   "name": "python",
   "nbconvert_exporter": "python",
   "pygments_lexer": "ipython3",
   "version": "3.8.5"
  }
 },
 "nbformat": 4,
 "nbformat_minor": 4
}
