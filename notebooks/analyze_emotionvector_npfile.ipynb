{
 "cells": [
  {
   "cell_type": "code",
   "execution_count": 1,
   "id": "c148c058-6c20-4ce7-addf-4d79a9d03160",
   "metadata": {},
   "outputs": [],
   "source": [
    "import pandas as pd\n",
    "import matplotlib.pyplot as plt\n",
    "import numpy as np\n",
    "import os\n",
    "from pathlib import Path\n",
    "from tqdm import tqdm"
   ]
  },
  {
   "cell_type": "code",
   "execution_count": 5,
   "id": "676295a5-0e3a-420f-81d7-7516b6630c7a",
   "metadata": {},
   "outputs": [],
   "source": [
    "extractions_path_1 = Path('../../../../mnt/DATA/datasets/soccernet/spain_laliga/2016-2017/2017-04-08 - 21-45 Malaga 2 - 0 Barcelona/face_extraction_results.npy')\n",
    "extractions = np.load(extractions_path_1, allow_pickle=True)\n"
   ]
  },
  {
   "cell_type": "code",
   "execution_count": 6,
   "id": "5389f54b-fce0-4cbb-bd24-c9bcbeb6d635",
   "metadata": {},
   "outputs": [
    {
     "name": "stderr",
     "output_type": "stream",
     "text": [
      "Overall Extraction Progress: 100%|██████████| 65462/65462 [02:35<00:00, 421.40it/s] \n"
     ]
    }
   ],
   "source": [
    "face_extractions_df = pd.DataFrame(columns=['half','frame_id','face_id','area','score','vector'])\n",
    "\n",
    "for face_extraction in tqdm(extractions, desc='Overall Extraction Progress'):\n",
    "    row = pd.DataFrame({'half':face_extraction[0][0], 'frame_id':face_extraction[0][1],\n",
    "                        'face_id':face_extraction[0][2], 'area':face_extraction[0][3], \n",
    "                        'score':face_extraction[0][4], 'vector':[face_extraction[1]]})\n",
    "    face_extractions_df = pd.concat([face_extractions_df,row])\n",
    "    \n",
    "face_extractions_df = face_extractions_df.reset_index(drop=True)"
   ]
  },
  {
   "cell_type": "code",
   "execution_count": 7,
   "id": "a3c3de40-1475-4ae4-873c-7440573154e8",
   "metadata": {},
   "outputs": [],
   "source": [
    "# face_extractions_df.loc[face_extractions_df['frame_id']=='04889'].head()"
   ]
  },
  {
   "cell_type": "code",
   "execution_count": 8,
   "id": "3cd2ff67-29bb-4d86-847a-f6ff990f71cb",
   "metadata": {},
   "outputs": [],
   "source": [
    "# face_extractions_df = face_extractions_df.reset_index(drop=True)\n",
    "# face_extractions_df[-78:].head(20)\n"
   ]
  },
  {
   "cell_type": "code",
   "execution_count": 11,
   "id": "702391e0-3afe-4f30-aaad-1a078810e521",
   "metadata": {},
   "outputs": [
    {
     "data": {
      "text/html": [
       "<div>\n",
       "<style scoped>\n",
       "    .dataframe tbody tr th:only-of-type {\n",
       "        vertical-align: middle;\n",
       "    }\n",
       "\n",
       "    .dataframe tbody tr th {\n",
       "        vertical-align: top;\n",
       "    }\n",
       "\n",
       "    .dataframe thead th {\n",
       "        text-align: right;\n",
       "    }\n",
       "</style>\n",
       "<table border=\"1\" class=\"dataframe\">\n",
       "  <thead>\n",
       "    <tr style=\"text-align: right;\">\n",
       "      <th></th>\n",
       "      <th>half</th>\n",
       "      <th>frame_id</th>\n",
       "      <th>face_id</th>\n",
       "      <th>area</th>\n",
       "      <th>score</th>\n",
       "      <th>vector</th>\n",
       "    </tr>\n",
       "  </thead>\n",
       "  <tbody>\n",
       "    <tr>\n",
       "      <th>0</th>\n",
       "      <td>0</td>\n",
       "      <td>00051</td>\n",
       "      <td>0</td>\n",
       "      <td>154</td>\n",
       "      <td>0.954762</td>\n",
       "      <td>[0.0, 0.2160715, 0.0, 0.0, 0.0, 0.0, 0.1697129...</td>\n",
       "    </tr>\n",
       "    <tr>\n",
       "      <th>1</th>\n",
       "      <td>0</td>\n",
       "      <td>00051</td>\n",
       "      <td>1</td>\n",
       "      <td>165</td>\n",
       "      <td>0.915355</td>\n",
       "      <td>[0.0, 0.089122266, 0.0, 0.0, 0.0, 0.018889489,...</td>\n",
       "    </tr>\n",
       "  </tbody>\n",
       "</table>\n",
       "</div>"
      ],
      "text/plain": [
       "  half frame_id face_id area     score  \\\n",
       "0    0    00051       0  154  0.954762   \n",
       "1    0    00051       1  165  0.915355   \n",
       "\n",
       "                                              vector  \n",
       "0  [0.0, 0.2160715, 0.0, 0.0, 0.0, 0.0, 0.1697129...  \n",
       "1  [0.0, 0.089122266, 0.0, 0.0, 0.0, 0.018889489,...  "
      ]
     },
     "execution_count": 11,
     "metadata": {},
     "output_type": "execute_result"
    }
   ],
   "source": [
    "face_extractions_df.loc[face_extractions_df['frame_id']=='00051']"
   ]
  },
  {
   "cell_type": "code",
   "execution_count": null,
   "id": "8fba9fcc-640f-4f6f-94a8-145d39e34090",
   "metadata": {},
   "outputs": [],
   "source": []
  }
 ],
 "metadata": {
  "kernelspec": {
   "display_name": "Python 3",
   "language": "python",
   "name": "python3"
  },
  "language_info": {
   "codemirror_mode": {
    "name": "ipython",
    "version": 3
   },
   "file_extension": ".py",
   "mimetype": "text/x-python",
   "name": "python",
   "nbconvert_exporter": "python",
   "pygments_lexer": "ipython3",
   "version": "3.9.7"
  }
 },
 "nbformat": 4,
 "nbformat_minor": 5
}
